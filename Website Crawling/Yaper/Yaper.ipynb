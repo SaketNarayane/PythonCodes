{
 "cells": [
  {
   "cell_type": "code",
   "execution_count": 12,
   "metadata": {},
   "outputs": [],
   "source": [
    "import sys\n",
    "import random\n",
    "import openpyxl\n",
    "import selenium.common.exceptions\n",
    "from selenium.webdriver import ActionChains\n",
    "from selenium.webdriver.common.by import By\n",
    "from selenium.webdriver.common.keys import Keys\n",
    "from selenium.webdriver.support import expected_conditions\n",
    "from selenium.webdriver.support.wait import WebDriverWait\n",
    "from selenium import webdriver\n",
    "import time\n",
    "from datetime import date\n",
    "from webdriver_manager.chrome import ChromeDriverManager\n",
    "from selenium.common.exceptions import NoSuchElementException, TimeoutException\n",
    "from selenium.webdriver.support.ui import Select\n",
    "from bs4 import BeautifulSoup\n",
    "import pandas as pd\n",
    "import numpy as np\n",
    "from openpyxl.styles import colors\n",
    "from openpyxl.styles import Font\n",
    "from openpyxl import load_workbook\n",
    "from selenium.webdriver.common.action_chains import ActionChains\n",
    "import win32com.client\n",
    "import winsound"
   ]
  },
  {
   "cell_type": "code",
   "execution_count": 13,
   "metadata": {},
   "outputs": [
    {
     "name": "stderr",
     "output_type": "stream",
     "text": [
      "C:\\Users\\saket.narayane\\AppData\\Local\\Temp\\ipykernel_10972\\3388120876.py:7: DeprecationWarning: executable_path has been deprecated, please pass in a Service object\n",
      "  driver = webdriver.Chrome(ChromeDriverManager().install(), options=chrome_options)\n"
     ]
    }
   ],
   "source": [
    "delay = 1\n",
    "\n",
    "search_url = \"https://yaper.co\"\n",
    "\n",
    "chrome_options = webdriver.ChromeOptions()\n",
    "chrome_options.add_argument('window-size=1920x1080')\n",
    "driver = webdriver.Chrome(ChromeDriverManager().install(), options=chrome_options)\n",
    "driver.get(search_url)\n",
    "#driver.maximize_window()"
   ]
  },
  {
   "cell_type": "code",
   "execution_count": 14,
   "metadata": {},
   "outputs": [],
   "source": [
    "sso_element = WebDriverWait(driver, 10).until(expected_conditions.presence_of_element_located(\n",
    "                (By.CSS_SELECTOR, \"#root > div > div.rn-1oszu61.rn-1efd50x.rn-14skgim.rn-rull8r.rn-mm0ijv.rn-13yce4e.rn-fnigne.rn-ndvcnb.rn-gxnn5r.rn-deolkf.rn-6koalj.rn-1qe8dj5.rn-1mlwlqe.rn-eqz5dr.rn-1mnahxq.rn-61z16t.rn-p1pxzi.rn-11wrixw.rn-ifefl9.rn-bcqeeo.rn-wk8lta.rn-9aemit.rn-1mdbw0j.rn-gy4na3.rn-bnwqim.rn-1lgpqti > div > div > div.rn-1awozwy.rn-1efd50x.rn-14skgim.rn-rull8r.rn-mm0ijv.rn-deolkf.rn-1loqt21.rn-6koalj.rn-1qe8dj5.rn-1mlwlqe.rn-18u37iz.rn-1mnahxq.rn-61z16t.rn-p1pxzi.rn-11wrixw.rn-ifefl9.rn-bcqeeo.rn-wk8lta.rn-1mdbw0j.rn-bnwqim.rn-1otgn73.rn-eafdt9.rn-1i6wzkk.rn-lrvibr.rn-1lgpqti\")))\n",
    "sso_element.click()\n",
    "wait_element = WebDriverWait(driver, 110).until(expected_conditions.presence_of_element_located(\n",
    "                (By.CSS_SELECTOR, \"#root > div > div.rn-1oszu61.rn-1efd50x.rn-14skgim.rn-rull8r.rn-mm0ijv.rn-13yce4e.rn-fnigne.rn-ndvcnb.rn-gxnn5r.rn-deolkf.rn-6koalj.rn-1qe8dj5.rn-1mlwlqe.rn-eqz5dr.rn-1mnahxq.rn-61z16t.rn-p1pxzi.rn-11wrixw.rn-ifefl9.rn-bcqeeo.rn-wk8lta.rn-9aemit.rn-1mdbw0j.rn-gy4na3.rn-bnwqim.rn-1lgpqti > div > div > div:nth-child(2) > div > img\")))\n",
    "wait_element.value_of_css_property\n",
    "driver.get(\"https://yaper.co/deals\")"
   ]
  },
  {
   "cell_type": "code",
   "execution_count": 15,
   "metadata": {},
   "outputs": [],
   "source": [
    "t_end = time.time() + 60 * 60 * 3\n",
    "count = 2\n",
    "while True:\n",
    "    pagesource = driver.page_source\n",
    "\n",
    "    search_text1 = \"HDFC\"\n",
    "    search_text2 = \"Any\"\n",
    "    neg_search_text = \"M33\"\n",
    "    delay = random.randrange(4,7)\n",
    "    if (pagesource.count(search_text1) + pagesource.count(search_text2) - pagesource.count(neg_search_text))>0:\n",
    "        \n",
    "        driver.switch_to.window(driver.current_window_handle)\n",
    "        print (\"found {}\".format(delay))\n",
    "        count = count - 1\n",
    "        \n",
    "        frequency = 2500  # Set Frequency To 2500 Hertz\n",
    "        duration = 1000  # Set Duration To 1000 ms == 1 second\n",
    "        winsound.Beep(frequency, duration)\n",
    "        if count == 0:\n",
    "            break\n",
    "    \n",
    "    \n",
    "    driver.refresh()\n",
    "    time.sleep(delay)\n",
    "    if time.time() > t_end:\n",
    "        break"
   ]
  },
  {
   "cell_type": "code",
   "execution_count": 16,
   "metadata": {},
   "outputs": [
    {
     "data": {
      "text/plain": [
       "1"
      ]
     },
     "execution_count": 16,
     "metadata": {},
     "output_type": "execute_result"
    }
   ],
   "source": [
    "pagesource.count(\"M33\")"
   ]
  }
 ],
 "metadata": {
  "kernelspec": {
   "display_name": "Python 3",
   "language": "python",
   "name": "python3"
  },
  "language_info": {
   "codemirror_mode": {
    "name": "ipython",
    "version": 3
   },
   "file_extension": ".py",
   "mimetype": "text/x-python",
   "name": "python",
   "nbconvert_exporter": "python",
   "pygments_lexer": "ipython3",
   "version": "3.10.4"
  },
  "orig_nbformat": 4,
  "vscode": {
   "interpreter": {
    "hash": "e0b08c3bf7894b9a383f537de54701f47279b936c3c7f9fbdb149456e269695c"
   }
  }
 },
 "nbformat": 4,
 "nbformat_minor": 2
}
