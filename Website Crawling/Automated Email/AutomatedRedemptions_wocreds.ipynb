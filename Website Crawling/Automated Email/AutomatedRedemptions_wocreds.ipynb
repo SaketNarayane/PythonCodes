{
 "cells": [
  {
   "cell_type": "markdown",
   "metadata": {},
   "source": [
    "Import Libraries"
   ]
  },
  {
   "cell_type": "code",
   "execution_count": 1,
   "metadata": {},
   "outputs": [],
   "source": [
    "import sys\n",
    "import random\n",
    "import openpyxl\n",
    "import selenium.common.exceptions\n",
    "from selenium.webdriver import ActionChains\n",
    "from selenium.webdriver.common.by import By\n",
    "from selenium.webdriver.common.keys import Keys\n",
    "from selenium.webdriver.support import expected_conditions\n",
    "from selenium.webdriver.support.wait import WebDriverWait\n",
    "from selenium import webdriver\n",
    "import time\n",
    "from datetime import date\n",
    "from webdriver_manager.chrome import ChromeDriverManager\n",
    "from selenium.common.exceptions import NoSuchElementException, TimeoutException\n",
    "from selenium.webdriver.support.ui import Select\n",
    "from bs4 import BeautifulSoup\n",
    "import pandas as pd\n",
    "import numpy as np\n",
    "from openpyxl.styles import colors\n",
    "from openpyxl.styles import Font\n",
    "from openpyxl import load_workbook\n",
    "from selenium.webdriver.common.action_chains import ActionChains\n",
    "import win32com.client"
   ]
  },
  {
   "cell_type": "markdown",
   "metadata": {},
   "source": [
    "Initialization"
   ]
  },
  {
   "cell_type": "code",
   "execution_count": 2,
   "metadata": {},
   "outputs": [
    {
     "name": "stderr",
     "output_type": "stream",
     "text": [
      "[WDM] - Downloading: 100%|██████████| 6.79M/6.79M [00:02<00:00, 2.81MB/s]\n",
      "C:\\Users\\saket.narayane\\AppData\\Local\\Temp\\ipykernel_23388\\3149376215.py:7: DeprecationWarning: executable_path has been deprecated, please pass in a Service object\n",
      "  driver = webdriver.Chrome(ChromeDriverManager().install(), options=chrome_options)\n"
     ]
    }
   ],
   "source": [
    "delay = 1\n",
    "\n",
    "search_url = \"https://production-store04-puma.demandware.net/on/demandware.store/Sites-Site/default/ViewApplication-DisplayLogin\"\n",
    "\n",
    "chrome_options = webdriver.ChromeOptions()\n",
    "chrome_options.add_argument('window-size=1920x1080')\n",
    "driver = webdriver.Chrome(ChromeDriverManager().install(), options=chrome_options)\n",
    "driver.get(search_url)\n",
    "#driver.maximize_window()"
   ]
  },
  {
   "cell_type": "code",
   "execution_count": 3,
   "metadata": {},
   "outputs": [],
   "source": [
    "sso_element = WebDriverWait(driver, 10).until(expected_conditions.presence_of_element_located(\n",
    "                (By.CSS_SELECTOR, \".button-sso\")))\n",
    "sso_element.click()"
   ]
  },
  {
   "cell_type": "code",
   "execution_count": 4,
   "metadata": {},
   "outputs": [],
   "source": [
    "username_element = WebDriverWait(driver, 10).until(expected_conditions.presence_of_element_located(\n",
    "                (By.CSS_SELECTOR, \"#idToken1\")))\n",
    "username_element.send_keys(Keys.CONTROL, 'a')\n",
    "username_element.send_keys(Keys.DELETE)\n",
    "username_element.send_keys(\"saket.narayane@puma.com\")\n",
    "\n",
    "time.sleep(delay/2)\n",
    "\n",
    "submit_username_element = WebDriverWait(driver, 10).until(expected_conditions.presence_of_element_located(\n",
    "                (By.CSS_SELECTOR, \"#loginButton_0\")))\n",
    "\n",
    "submit_username_element.click()\n",
    "\n"
   ]
  },
  {
   "cell_type": "code",
   "execution_count": 5,
   "metadata": {},
   "outputs": [],
   "source": [
    "username_element = WebDriverWait(driver, 10).until(expected_conditions.presence_of_element_located(\n",
    "                (By.CSS_SELECTOR, \"#idToken2\")))\n",
    "username_element.send_keys(Keys.CONTROL, 'a')\n",
    "username_element.send_keys(Keys.DELETE)\n",
    "username_element.send_keys(\"EnterPassword\")\n",
    "\n",
    "time.sleep(delay/2)\n",
    "\n",
    "submit_username_element = WebDriverWait(driver, 10).until(expected_conditions.presence_of_element_located(\n",
    "                (By.CSS_SELECTOR, \"#loginButton_0\")))\n",
    "\n",
    "submit_username_element.click()\n",
    "\n",
    "#idToken2\n"
   ]
  },
  {
   "cell_type": "code",
   "execution_count": 6,
   "metadata": {},
   "outputs": [],
   "source": [
    "merchant_dropdown_element = WebDriverWait(driver, 120).until(expected_conditions.visibility_of_element_located(\n",
    "                (By.CSS_SELECTOR, \".merchant-tools .menu-overview-link-icon\")))\n",
    "merchant_dropdown_element.click()\n"
   ]
  },
  {
   "cell_type": "code",
   "execution_count": 7,
   "metadata": {},
   "outputs": [],
   "source": [
    "ioexport_element = WebDriverWait(driver, 120).until(expected_conditions.visibility_of_element_located(\n",
    "                (By.CSS_SELECTOR, \"body > div.slds-layout-frame > div.slds-layout > ccbm > div.slds-layout-header.bm-site-navigation-menus > header > div.slds-context-bar > nav > ul > li:nth-child(5) > div > div > div.bm-menu-columns > div:nth-child(4) > div > div > div > div.menu_items_bm > div:nth-child(10) > div > a\")))\n",
    "ioexport_element.click()\n"
   ]
  },
  {
   "cell_type": "code",
   "execution_count": 8,
   "metadata": {},
   "outputs": [],
   "source": [
    "export_element = WebDriverWait(driver, 120).until(expected_conditions.visibility_of_element_located(\n",
    "                (By.CSS_SELECTOR, \"#bm_content_column > table > tbody > tr > td > table > tbody > tr > td.top > form > table > tbody > tr > td > table:nth-child(10) > tbody > tr > td.table_title_description > p > a\")))\n",
    "export_element.click()\n"
   ]
  },
  {
   "cell_type": "code",
   "execution_count": 9,
   "metadata": {},
   "outputs": [],
   "source": [
    "coupon = \"drim*\"\n",
    "\n",
    "\n",
    "couponcode_search_element = WebDriverWait(driver, 30).until(expected_conditions.presence_of_element_located(\n",
    "                (By.CSS_SELECTOR, \"#bm_content_column > table > tbody > tr > td > table > tbody > tr > td.top > table > tbody > tr > td > table.infobox.n.e.s.w > tbody > tr:nth-child(2) > td:nth-child(2) > input\")))\n",
    "\n",
    "\n",
    "#couponcode_search_element = driver.find_element(By.CSS_SELECTOR, \"#dw-search-177 > input\")\n",
    "couponcode_search_element.click()\n",
    "couponcode_search_element.send_keys(Keys.CONTROL, 'a')\n",
    "couponcode_search_element.send_keys(Keys.DELETE)\n",
    "couponcode_search_element.send_keys(coupon)\n",
    "couponcode_search_element.send_keys(Keys.ENTER)\n",
    "time.sleep(delay*2)\n"
   ]
  },
  {
   "cell_type": "code",
   "execution_count": 10,
   "metadata": {},
   "outputs": [],
   "source": [
    "selectbutton_element = WebDriverWait(driver, 120).until(expected_conditions.presence_of_element_located(\n",
    "                (By.CSS_SELECTOR, \"#bm_content_column > table > tbody > tr > td > table > tbody > tr > td.top > table > tbody > tr > td > table:nth-child(3) > tbody > tr > td > table:nth-child(1) > tbody > tr:nth-child(2) > td.table_bg.w.e.s.center > input[type=radio]:nth-child(1)\")))\n",
    "selectbutton_element.click()\n",
    "\n"
   ]
  },
  {
   "cell_type": "code",
   "execution_count": 11,
   "metadata": {},
   "outputs": [],
   "source": [
    "next_element = WebDriverWait(driver, 120).until(expected_conditions.presence_of_element_located(\n",
    "                (By.CSS_SELECTOR, \"#bm_content_column > table > tbody > tr > td > table > tbody > tr > td.top > table > tbody > tr > td > table:nth-child(3) > tbody > tr > td > table.w.e.s > tbody > tr > td > table > tbody > tr > td:nth-child(1) > button\")))\n",
    "                \n",
    "next_element.click()"
   ]
  },
  {
   "cell_type": "code",
   "execution_count": 12,
   "metadata": {},
   "outputs": [],
   "source": [
    "filename = \"DRIM_Redemptions_{}\".format(date.today())\n",
    "\n",
    "\n",
    "couponcode_search_element = WebDriverWait(driver, 30).until(expected_conditions.presence_of_element_located(\n",
    "                (By.CSS_SELECTOR, \"#bm_content_column > table > tbody > tr > td > table > tbody > tr > td.top > table:nth-child(8) > tbody > tr > td > table:nth-child(1) > tbody > tr:nth-child(1) > td:nth-child(2) > input\")))\n",
    "\n",
    "\n",
    "#couponcode_search_element = driver.find_element(By.CSS_SELECTOR, \"#dw-search-177 > input\")\n",
    "couponcode_search_element.click()\n",
    "couponcode_search_element.send_keys(Keys.CONTROL, 'a')\n",
    "couponcode_search_element.send_keys(Keys.DELETE)\n",
    "couponcode_search_element.send_keys(filename)\n",
    "time.sleep(delay*2)"
   ]
  },
  {
   "cell_type": "code",
   "execution_count": 13,
   "metadata": {},
   "outputs": [],
   "source": [
    "exportbutton_element = WebDriverWait(driver, 120).until(expected_conditions.presence_of_element_located(\n",
    "                (By.CSS_SELECTOR, \"#bm_content_column > table > tbody > tr > td > table > tbody > tr > td.top > table:nth-child(8) > tbody > tr > td > table:nth-child(2) > tbody > tr > td:nth-child(2) > table > tbody > tr > td:nth-child(1) > button\")))\n",
    "                \n",
    "exportbutton_element.click()\n",
    "time.sleep(delay*5)\n",
    "\n"
   ]
  },
  {
   "cell_type": "code",
   "execution_count": 14,
   "metadata": {},
   "outputs": [],
   "source": [
    "downloadbutton_element = WebDriverWait(driver, 120).until(expected_conditions.presence_of_element_located(\n",
    "                (By.CSS_SELECTOR, \"#bm_content_column > table > tbody > tr > td > table > tbody > tr > td.top > form > table > tbody > tr > td > table.w.e > tbody > tr:nth-child(3) > td:nth-child(2) > a\")))\n",
    "                \n",
    "downloadbutton_element.send_keys(Keys.ENTER)"
   ]
  },
  {
   "cell_type": "code",
   "execution_count": 15,
   "metadata": {},
   "outputs": [],
   "source": [
    "#driver.execute_script(\"document.body.style.zoom='60%'\")"
   ]
  },
  {
   "cell_type": "code",
   "execution_count": 16,
   "metadata": {},
   "outputs": [],
   "source": [
    "htmlelement= WebDriverWait(driver, 120).until(expected_conditions.presence_of_element_located(\n",
    "                (By.TAG_NAME,'html')))\n",
    "\n",
    "htmlelement.send_keys(Keys.END)\n",
    "time.sleep(delay*2)\n",
    "\n",
    "downloadbutton_element = WebDriverWait(driver, 120).until(expected_conditions.presence_of_element_located(\n",
    "                (By.CSS_SELECTOR, \"#bm_content_column > table > tbody > tr > td > table > tbody > tr > td.top > table:nth-child(5) > tbody > tr > td > table:nth-child(11) > tbody > tr > td > a > b\")))\n",
    "\n",
    "#downloadbutton_element.send_keys(Keys.ENTER)\n",
    "\n",
    "downloadbutton_element.click()\n",
    "time.sleep(delay*10)"
   ]
  },
  {
   "cell_type": "code",
   "execution_count": 17,
   "metadata": {},
   "outputs": [],
   "source": [
    "read_file = pd.read_csv(r'C:\\Users\\saket.narayane\\Downloads\\DRIM_Redemptions_{}.csv'.format(date.today()))\n",
    "read_file.to_excel (r'C:\\Users\\saket.narayane\\Downloads\\DRIM_Redemptions_{}.xlsx'.format(date.today()), index = None, header=True)\n",
    "\n"
   ]
  },
  {
   "cell_type": "code",
   "execution_count": 18,
   "metadata": {},
   "outputs": [],
   "source": [
    "\n",
    "workbook = load_workbook(r'C:\\Users\\saket.narayane\\Downloads\\DRIM_Redemptions_{}.xlsx'.format(date.today()))\n",
    "worksheet = workbook.worksheets[0]\n",
    "worksheet.delete_cols(5,1)\n",
    "\n",
    "workbook.save(r'C:\\Users\\saket.narayane\\Downloads\\DRIM_Redemptions_{}.xlsx'.format(date.today()))\n"
   ]
  },
  {
   "cell_type": "code",
   "execution_count": 19,
   "metadata": {},
   "outputs": [],
   "source": [
    "ol = win32com.client.Dispatch('Outlook.Application')\n",
    "\n",
    "# size of the new email\n",
    "olmailitem = 0x0\n",
    "\n",
    "newmail = ol.CreateItem(olmailitem)\n",
    "\n",
    "newmail.Subject = 'xyz Coupon Redemption Report'\n",
    "\n",
    "newmail.To = 'a@b'\n",
    "newmail.CC = 'b@c; c@d'\n",
    "\n",
    "\n",
    "newmail.Body= \"\"\"Hi abc,\n",
    "\n",
    "Please find attached the coupon redemptions so far for the xyz campaign.\"\"\"\n",
    "\n",
    "newmail.Attachments.Add(r'C:\\Users\\saket.narayane\\Downloads\\DRIM_Redemptions_{}.xlsx'.format(date.today()))\n",
    "\n",
    "newmail.Display()"
   ]
  }
 ],
 "metadata": {
  "kernelspec": {
   "display_name": "Python 3.10.4 64-bit",
   "language": "python",
   "name": "python3"
  },
  "language_info": {
   "codemirror_mode": {
    "name": "ipython",
    "version": 3
   },
   "file_extension": ".py",
   "mimetype": "text/x-python",
   "name": "python",
   "nbconvert_exporter": "python",
   "pygments_lexer": "ipython3",
   "version": "3.10.4"
  },
  "orig_nbformat": 4,
  "vscode": {
   "interpreter": {
    "hash": "e0b08c3bf7894b9a383f537de54701f47279b936c3c7f9fbdb149456e269695c"
   }
  }
 },
 "nbformat": 4,
 "nbformat_minor": 2
}
